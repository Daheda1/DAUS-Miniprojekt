{
 "cells": [
  {
   "cell_type": "code",
   "execution_count": 1,
   "metadata": {},
   "outputs": [],
   "source": [
    "import cv2 as cv\n",
    "import numpy as np\n",
    "import shutil\n",
    "from sklearn.cluster import KMeans\n",
    "import random\n",
    "import os"
   ]
  },
  {
   "cell_type": "markdown",
   "metadata": {},
   "source": [
    "indstillinger"
   ]
  },
  {
   "cell_type": "code",
   "execution_count": 2,
   "metadata": {},
   "outputs": [],
   "source": [
    "full_set_plader = \"Data/KD hele plader\"\n",
    "train_set_plader = \"Data/KD train plader\"\n",
    "test_set_plader = \"Data/KD Test plader\"\n",
    "train_set_tiles = \"Data/KD train tiles\" \n",
    "\n",
    "train_set_tiles_mixed = train_set_tiles + \"/blandet\"\n",
    "\n",
    "test_size=0.2\n",
    "\n",
    "crop_percentage = 0\n",
    "circle_size = 0.0\n",
    "\n",
    "n_clusters=7"
   ]
  },
  {
   "cell_type": "markdown",
   "metadata": {},
   "source": [
    "Laver test split af hele plader"
   ]
  },
  {
   "cell_type": "code",
   "execution_count": 3,
   "metadata": {},
   "outputs": [],
   "source": [
    "def copy_files(files, destination):\n",
    "    for f in files:\n",
    "        shutil.copy(os.path.join(full_set_plader, f), os.path.join(destination, f))"
   ]
  },
  {
   "cell_type": "code",
   "execution_count": 4,
   "metadata": {},
   "outputs": [],
   "source": [
    "# Sikre, at destinationsmapperne eksisterer\n",
    "os.makedirs(train_set_plader, exist_ok=True)\n",
    "os.makedirs(train_set_plader, exist_ok=True)\n",
    "\n",
    "# Hent alle filnavne fra data-mappen\n",
    "all_files = [f for f in os.listdir(full_set_plader) if os.path.isfile(os.path.join(full_set_plader, f))]\n",
    "\n",
    "# Bland listen i state 42 og lav et tilfældigt split\n",
    "random.Random(42).shuffle(all_files)\n",
    "split_point = int((1 - test_size) * len(all_files))\n",
    "\n",
    "# Fordel filerne i train og test mapper\n",
    "train_files = all_files[:split_point]\n",
    "test_files = all_files[split_point:]\n",
    "\n",
    "# Kopier filerne\n",
    "copy_files(train_files, train_set_plader)\n",
    "copy_files(test_files, test_set_plader)"
   ]
  },
  {
   "cell_type": "markdown",
   "metadata": {},
   "source": [
    "Laver tile split"
   ]
  },
  {
   "cell_type": "code",
   "execution_count": 5,
   "metadata": {},
   "outputs": [],
   "source": [
    "def get_tiles(image):\n",
    "    # laver en tom liste \n",
    "    tiles = []\n",
    "    # kører et for loop hvor elementer vil blive tilføjet til listen, hvor y repræsenterer en række af billedet\n",
    "    for y in range(5):\n",
    "        tiles.append([])\n",
    "    # kører et nested loop, hvor billedet bliver delt op i en tavel med 25 kvadrater af 100,100 px og tilføjer til listen tiles\n",
    "        for x in range(5):\n",
    "            tiles[-1].append(image[y*100:(y+1)*100, x*100:(x+1)*100])\n",
    "    return tiles"
   ]
  },
  {
   "cell_type": "code",
   "execution_count": 6,
   "metadata": {},
   "outputs": [],
   "source": [
    "all_tiles = []\n",
    "\n",
    "for filename in os.listdir(train_set_plader):\n",
    "    image_path = os.path.join(train_set_plader, filename)\n",
    "\n",
    "    if not os.path.isfile(image_path):\n",
    "        print(f\"Image not found: {image_path}\")\n",
    "        continue\n",
    "    \n",
    "    image = cv.imread(image_path)\n",
    "    tiles = get_tiles(image)\n",
    "    \n",
    "    for y, row in enumerate(tiles):\n",
    "        for x, tile in enumerate(row):\n",
    "            #tile = zoom_tile(tile)\n",
    "            #tile = remove_circle_from_tile(tile)\n",
    "            all_tiles.append(tile)"
   ]
  },
  {
   "cell_type": "code",
   "execution_count": 7,
   "metadata": {},
   "outputs": [
    {
     "name": "stderr",
     "output_type": "stream",
     "text": [
      "/Library/Frameworks/Python.framework/Versions/3.11/lib/python3.11/site-packages/sklearn/cluster/_kmeans.py:1416: FutureWarning: The default value of `n_init` will change from 10 to 'auto' in 1.4. Set the value of `n_init` explicitly to suppress the warning\n",
      "  super()._check_params_vs_input(X, default_n_init=10)\n"
     ]
    }
   ],
   "source": [
    "hsv_colors = []\n",
    "for tile in all_tiles:\n",
    "    hsv = cv.cvtColor(tile, cv.COLOR_BGR2HSV)\n",
    "    avg_color_per_row = np.average(hsv, axis=0)\n",
    "    avg_color = np.average(avg_color_per_row, axis=0)\n",
    "    hsv_colors.append(avg_color)\n",
    "\n",
    "# Anvend K-means clustering på de fundne farver\n",
    "kmeans = KMeans(n_clusters, random_state=0).fit(hsv_colors)\n",
    "\n",
    "# Opret mapper til de forskellige clusters, hvis de ikke allerede findes\n",
    "for i in range(n_clusters):\n",
    "    os.makedirs(f'{train_set_tiles}/cluster_{i}', exist_ok=True)\n",
    "\n",
    "# Gem hvert billede i den tilsvarende mappe baseret på dets cluster\n",
    "for idx, tile in enumerate(all_tiles):\n",
    "    cluster_index = kmeans.labels_[idx]\n",
    "    tile_path = f'{train_set_tiles}/cluster_{cluster_index}/{idx}.jpg'\n",
    "    cv.imwrite(tile_path, tile)"
   ]
  }
 ],
 "metadata": {
  "kernelspec": {
   "display_name": "Python 3",
   "language": "python",
   "name": "python3"
  },
  "language_info": {
   "codemirror_mode": {
    "name": "ipython",
    "version": 3
   },
   "file_extension": ".py",
   "mimetype": "text/x-python",
   "name": "python",
   "nbconvert_exporter": "python",
   "pygments_lexer": "ipython3",
   "version": "3.11.2"
  }
 },
 "nbformat": 4,
 "nbformat_minor": 2
}
