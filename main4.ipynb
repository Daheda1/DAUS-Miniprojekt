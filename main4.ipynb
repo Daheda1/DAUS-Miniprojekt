{
 "cells": [
  {
   "cell_type": "code",
   "execution_count": 11,
   "metadata": {},
   "outputs": [],
   "source": [
    "import cv2 as cv\n",
    "import numpy as np\n",
    "from matplotlib import pyplot as plt\n",
    "import shutil\n",
    "import random\n",
    "import os"
   ]
  },
  {
   "cell_type": "code",
   "execution_count": 12,
   "metadata": {},
   "outputs": [],
   "source": [
    "full_set_plader = \"Data/KD hele plader\"\n",
    "train_set_plader = \"Data/KD train plader\"\n",
    "test_set_plader = \"Data/KD Test plader\"\n",
    "train_set_tiles = \"Data/KD train tiles\" \n",
    "\n",
    "train_set_tiles_mixed = train_set_tiles + \"/blandet\"\n",
    "\n",
    "test_size=0.2\n",
    "\n",
    "crop_percentage = 0\n",
    "circle_size = 0.0"
   ]
  },
  {
   "cell_type": "code",
   "execution_count": 13,
   "metadata": {},
   "outputs": [],
   "source": [
    "def copy_files(files, destination):\n",
    "    for f in files:\n",
    "        shutil.copy(os.path.join(full_set_plader, f), os.path.join(destination, f))"
   ]
  },
  {
   "cell_type": "code",
   "execution_count": 14,
   "metadata": {},
   "outputs": [],
   "source": [
    "# Sikre, at destinationsmapperne eksisterer\n",
    "os.makedirs(train_set_plader, exist_ok=True)\n",
    "os.makedirs(train_set_plader, exist_ok=True)\n",
    "\n",
    "# Hent alle filnavne fra data-mappen\n",
    "all_files = [f for f in os.listdir(full_set_plader) if os.path.isfile(os.path.join(full_set_plader, f))]\n",
    "\n",
    "# Bland listen i state 42 og lav et tilfældigt split\n",
    "random.Random(42).shuffle(all_files)\n",
    "split_point = int((1 - test_size) * len(all_files))\n",
    "\n",
    "# Fordel filerne i train og test mapper\n",
    "train_files = all_files[:split_point]\n",
    "test_files = all_files[split_point:]\n",
    "\n",
    "# Kopier filerne\n",
    "copy_files(train_files, train_set_plader)\n",
    "copy_files(test_files, test_set_plader)"
   ]
  },
  {
   "cell_type": "markdown",
   "metadata": {},
   "source": [
    "Laver tile split"
   ]
  },
  {
   "cell_type": "code",
   "execution_count": 15,
   "metadata": {},
   "outputs": [],
   "source": [
    "def get_tiles(image):\n",
    "    # laver en tom liste \n",
    "    tiles = []\n",
    "    # kører et for loop hvor elementer vil blive tilføjet til listen, hvor y repræsenterer en række af billedet\n",
    "    for y in range(5):\n",
    "        tiles.append([])\n",
    "    # kører et nested loop, hvor billedet bliver delt op i en tavel med 25 kvadrater af 100,100 px og tilføjer til listen tiles\n",
    "        for x in range(5):\n",
    "            tiles[-1].append(image[y*100:(y+1)*100, x*100:(x+1)*100])\n",
    "    return tiles"
   ]
  },
  {
   "cell_type": "code",
   "execution_count": 16,
   "metadata": {},
   "outputs": [],
   "source": [
    "def zoom_tile(tile):\n",
    "    height, width = tile.shape[:2]\n",
    "    \n",
    "    # Beregner hvor meget der skal beskæres fra hver side\n",
    "    crop_height = int(height * crop_percentage)\n",
    "    crop_width = int(width * crop_percentage)\n",
    "    \n",
    "    # Opdaterer udsnittets start- og slutpunkter for at fjerne de yderste 5%\n",
    "    cropped_tile = tile[crop_height:height-crop_height, crop_width:width-crop_width]\n",
    "    \n",
    "    return cropped_tile"
   ]
  },
  {
   "cell_type": "code",
   "execution_count": 17,
   "metadata": {},
   "outputs": [],
   "source": [
    "def remove_circle_from_tile(tile):\n",
    "    if tile.shape[2] == 3:\n",
    "        tile = cv.cvtColor(tile, cv.COLOR_BGR2BGRA)\n",
    "    \n",
    "    height, width = tile.shape[:2]\n",
    "    diameter = int(circle_size * min(width, height))\n",
    "    center = (width // 2, height // 2)\n",
    "    \n",
    "    mask = np.zeros((height, width), dtype=np.uint8)\n",
    "    cv.circle(mask, center, diameter // 2, (255), -1)\n",
    "    \n",
    "    # Fjerner cirklen fra alfakanalen, så den bliver gennemsigtig\n",
    "    tile[mask == 255, 3] = 0\n",
    "\n",
    "    return tile"
   ]
  },
  {
   "cell_type": "code",
   "execution_count": 19,
   "metadata": {},
   "outputs": [
    {
     "ename": "TypeError",
     "evalue": "'NoneType' object is not subscriptable",
     "output_type": "error",
     "traceback": [
      "\u001b[0;31m---------------------------------------------------------------------------\u001b[0m",
      "\u001b[0;31mTypeError\u001b[0m                                 Traceback (most recent call last)",
      "Cell \u001b[0;32mIn[19], line 11\u001b[0m\n\u001b[1;32m      8\u001b[0m     \u001b[38;5;28;01mcontinue\u001b[39;00m\n\u001b[1;32m     10\u001b[0m image \u001b[38;5;241m=\u001b[39m cv\u001b[38;5;241m.\u001b[39mimread(image_path)\n\u001b[0;32m---> 11\u001b[0m tiles \u001b[38;5;241m=\u001b[39m \u001b[43mget_tiles\u001b[49m\u001b[43m(\u001b[49m\u001b[43mimage\u001b[49m\u001b[43m)\u001b[49m\n\u001b[1;32m     13\u001b[0m \u001b[38;5;28;01mfor\u001b[39;00m y, row \u001b[38;5;129;01min\u001b[39;00m \u001b[38;5;28menumerate\u001b[39m(tiles):\n\u001b[1;32m     14\u001b[0m     \u001b[38;5;28;01mfor\u001b[39;00m x, tile \u001b[38;5;129;01min\u001b[39;00m \u001b[38;5;28menumerate\u001b[39m(row):\n",
      "Cell \u001b[0;32mIn[15], line 9\u001b[0m, in \u001b[0;36mget_tiles\u001b[0;34m(image)\u001b[0m\n\u001b[1;32m      7\u001b[0m \u001b[38;5;66;03m# kører et nested loop, hvor billedet bliver delt op i en tavel med 25 kvadrater af 100,100 px og tilføjer til listen tiles\u001b[39;00m\n\u001b[1;32m      8\u001b[0m     \u001b[38;5;28;01mfor\u001b[39;00m x \u001b[38;5;129;01min\u001b[39;00m \u001b[38;5;28mrange\u001b[39m(\u001b[38;5;241m5\u001b[39m):\n\u001b[0;32m----> 9\u001b[0m         tiles[\u001b[38;5;241m-\u001b[39m\u001b[38;5;241m1\u001b[39m]\u001b[38;5;241m.\u001b[39mappend(\u001b[43mimage\u001b[49m\u001b[43m[\u001b[49m\u001b[43my\u001b[49m\u001b[38;5;241;43m*\u001b[39;49m\u001b[38;5;241;43m100\u001b[39;49m\u001b[43m:\u001b[49m\u001b[43m(\u001b[49m\u001b[43my\u001b[49m\u001b[38;5;241;43m+\u001b[39;49m\u001b[38;5;241;43m1\u001b[39;49m\u001b[43m)\u001b[49m\u001b[38;5;241;43m*\u001b[39;49m\u001b[38;5;241;43m100\u001b[39;49m\u001b[43m,\u001b[49m\u001b[43m \u001b[49m\u001b[43mx\u001b[49m\u001b[38;5;241;43m*\u001b[39;49m\u001b[38;5;241;43m100\u001b[39;49m\u001b[43m:\u001b[49m\u001b[43m(\u001b[49m\u001b[43mx\u001b[49m\u001b[38;5;241;43m+\u001b[39;49m\u001b[38;5;241;43m1\u001b[39;49m\u001b[43m)\u001b[49m\u001b[38;5;241;43m*\u001b[39;49m\u001b[38;5;241;43m100\u001b[39;49m\u001b[43m]\u001b[49m)\n\u001b[1;32m     10\u001b[0m \u001b[38;5;28;01mreturn\u001b[39;00m tiles\n",
      "\u001b[0;31mTypeError\u001b[0m: 'NoneType' object is not subscriptable"
     ]
    }
   ],
   "source": [
    "all_tiles = []\n",
    "\n",
    "for filename in os.listdir(train_set_plader):\n",
    "    image_path = os.path.join(train_set_plader, filename)\n",
    "\n",
    "    if not os.path.isfile(image_path):\n",
    "        print(f\"Image not found: {image_path}\")\n",
    "        continue\n",
    "    \n",
    "    image = cv.imread(image_path)\n",
    "    tiles = get_tiles(image)\n",
    "    \n",
    "    for y, row in enumerate(tiles):\n",
    "        for x, tile in enumerate(row):\n",
    "            tile = zoom_tile(tile)\n",
    "            tile = remove_circle_from_tile(tile)\n",
    "            all_tiles.append(tile)"
   ]
  },
  {
   "cell_type": "code",
   "execution_count": null,
   "metadata": {},
   "outputs": [],
   "source": [
    "all_tiles"
   ]
  }
 ],
 "metadata": {
  "kernelspec": {
   "display_name": "Python 3",
   "language": "python",
   "name": "python3"
  },
  "language_info": {
   "codemirror_mode": {
    "name": "ipython",
    "version": 3
   },
   "file_extension": ".py",
   "mimetype": "text/x-python",
   "name": "python",
   "nbconvert_exporter": "python",
   "pygments_lexer": "ipython3",
   "version": "3.12.3"
  }
 },
 "nbformat": 4,
 "nbformat_minor": 2
}
