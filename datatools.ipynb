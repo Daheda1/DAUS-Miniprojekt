{
 "cells": [
  {
   "cell_type": "code",
   "execution_count": 9,
   "metadata": {},
   "outputs": [],
   "source": [
    "import os\n",
    "import shutil\n",
    "from sklearn.model_selection import train_test_split\n",
    "import cv2 as cv\n",
    "import numpy as np"
   ]
  },
  {
   "cell_type": "code",
   "execution_count": 10,
   "metadata": {},
   "outputs": [],
   "source": [
    "def split_data(source_dir, train_dir, test_dir, test_size=0.2, random_state=None):\n",
    "    # Sikre, at destinationsmapperne eksisterer\n",
    "    os.makedirs(train_dir, exist_ok=True)\n",
    "    os.makedirs(test_dir, exist_ok=True)\n",
    "\n",
    "    # Hent alle filnavne fra data-mappen\n",
    "    all_files = [f for f in os.listdir(source_dir) if os.path.isfile(os.path.join(source_dir, f))]\n",
    "\n",
    "    # Opdel filerne i train og test ved hjælp af train_test_split\n",
    "    train_files, test_files = train_test_split(all_files, test_size=test_size, random_state=random_state)\n",
    "\n",
    "    # Kopier train filer\n",
    "    for f in train_files:\n",
    "        shutil.copy(os.path.join(source_dir, f), os.path.join(train_dir, f))\n",
    "    \n",
    "    # Kopier test filer\n",
    "    for f in test_files:\n",
    "        shutil.copy(os.path.join(source_dir, f), os.path.join(test_dir, f))"
   ]
  },
  {
   "cell_type": "code",
   "execution_count": 11,
   "metadata": {},
   "outputs": [],
   "source": [
    "def get_tiles(image):\n",
    "    # laver en tom liste \n",
    "    tiles = []\n",
    "    # kører et for loop hvor elementer vil blive tilføjet til listen, hvor y repræsenterer en række af billedet\n",
    "    for y in range(5):\n",
    "        tiles.append([])\n",
    "    # kører et nested loop, hvor billedet bliver delt op i en tavel med 25 kvadrater af 100,100 px og tilføjer til listen tiles\n",
    "        for x in range(5):\n",
    "            tiles[-1].append(image[y*100:(y+1)*100, x*100:(x+1)*100])\n",
    "    return tiles\n",
    "\n",
    "def save_tile(tile, output_folder, image_name, x, y):\n",
    "    # her laver vi en mappe 'blandet' hvis den ikke findes\n",
    "    if not os.path.exists(os.path.join(output_folder, \"blandet\")):\n",
    "        os.makedirs(os.path.join(output_folder, \"blandet\"))\n",
    "\n",
    "    # her definerer vi navnet på det tile der skal gemmes som f.eks. 1_3_2.png ved brug af en f-streng\n",
    "    tile_filename = f\"{image_name}_{x}_{y}.png\"\n",
    "\n",
    "    # her definerer bi tile_path som er stedet hvor vi vil gemme vores tile\n",
    "    tile_path = os.path.join(output_folder, \"blandet\", tile_filename)\n",
    "    # her gemmer vi vores tile som tile_filename i folderen 'blandet'\n",
    "    cv.imwrite(tile_path, tile)\n",
    "\n",
    "    # her skriver vi til konsollen at vi har gemt vores til i 'blandet' folderen\n",
    "    print(f\"Saved Tile as {tile_filename} in 'blandet' folder\")"
   ]
  },
  {
   "cell_type": "code",
   "execution_count": 12,
   "metadata": {},
   "outputs": [],
   "source": [
    "def tile_set_create(output_folder, input_folder):\n",
    "    # foldere til billeder defineres\n",
    "    output_folder = \"Data/KD train tiles\"\n",
    "    input_folder = \"Data/KD train plader\"\n",
    "\n",
    "    # vi kigger igennem hver fil i input folderen\n",
    "    for filename in os.listdir(input_folder):\n",
    "        \n",
    "        if not filename.endswith('.jpg'):\n",
    "            continue\n",
    "        # da billederne er navngivet som 1.jpg, 2.jpg osv. \n",
    "        # bruger vi filename counteren til at definere billedet vi vil have\n",
    "        image_path = input_folder +\"/\" +filename\n",
    "        # vi udskriver stien til billedet som man kan kigge på hvis der skulle opstå fejl\n",
    "        print(image_path)\n",
    "        # her tjekker vi om billedet findes i mappen og skriver \"Image not found\" hvis det ikke eksisterer\n",
    "        if not os.path.isfile(image_path):\n",
    "            print(\"Image not found\")\n",
    "            return\n",
    "        \n",
    "        # her bruger vi openCV til at åbne billedet\n",
    "        image = cv.imread(image_path)\n",
    "        tiles = get_tiles(image)\n",
    "        print(len(tiles))\n",
    "        for y, row in enumerate(tiles):\n",
    "            for x, tile in enumerate(row):\n",
    "                save_tile(tile, output_folder, filename, x, y)\n",
    "\n"
   ]
  },
  {
   "cell_type": "code",
   "execution_count": 13,
   "metadata": {},
   "outputs": [],
   "source": [
    "# Stier til mapperne\n",
    "data_dir = 'Data/KD hele plader'\n",
    "train_dir = 'Data/KD train plader'\n",
    "test_dir = 'Data/KD test plader'\n",
    "tile_train_dir = \"Data/KD train tiles\""
   ]
  },
  {
   "cell_type": "code",
   "execution_count": 14,
   "metadata": {},
   "outputs": [
    {
     "name": "stdout",
     "output_type": "stream",
     "text": [
      "En uventet fejl opstod: Random.shuffle() got an unexpected keyword argument 'seed'\n"
     ]
    }
   ],
   "source": [
    "split_data(data_dir, train_dir, test_dir, test_size=0.2, random_state=42)"
   ]
  },
  {
   "cell_type": "code",
   "execution_count": 15,
   "metadata": {},
   "outputs": [],
   "source": [
    "tile_set_create(tile_train_dir, train_dir)"
   ]
  }
 ],
 "metadata": {
  "kernelspec": {
   "display_name": "Python 3",
   "language": "python",
   "name": "python3"
  },
  "language_info": {
   "codemirror_mode": {
    "name": "ipython",
    "version": 3
   },
   "file_extension": ".py",
   "mimetype": "text/x-python",
   "name": "python",
   "nbconvert_exporter": "python",
   "pygments_lexer": "ipython3",
   "version": "3.12.3"
  }
 },
 "nbformat": 4,
 "nbformat_minor": 2
}
