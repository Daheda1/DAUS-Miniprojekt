{
 "cells": [
  {
   "cell_type": "code",
   "execution_count": 1,
   "metadata": {},
   "outputs": [],
   "source": [
    "import cv2 as cv\n",
    "import numpy as np\n",
    "import shutil\n",
    "from sklearn.cluster import KMeans\n",
    "from sklearn.preprocessing import StandardScaler\n",
    "import random\n",
    "import os"
   ]
  },
  {
   "cell_type": "markdown",
   "metadata": {},
   "source": [
    "indstillinger"
   ]
  },
  {
   "cell_type": "code",
   "execution_count": 2,
   "metadata": {},
   "outputs": [],
   "source": [
    "full_set_plader = \"Data/KD hele plader\"\n",
    "train_set_plader = \"Data/KD train plader\"\n",
    "test_set_plader = \"Data/KD Test plader\"\n",
    "train_set_tiles = \"Data/KD train tiles\" \n",
    "\n",
    "train_set_tiles_mixed = train_set_tiles + \"/blandet\"\n",
    "\n",
    "test_size=0.2\n",
    "\n",
    "crop_percentage = 0.01\n",
    "circle_size = 0.2\n",
    "\n",
    "n_clusters=7"
   ]
  },
  {
   "cell_type": "markdown",
   "metadata": {},
   "source": [
    "Laver test split af hele plader"
   ]
  },
  {
   "cell_type": "code",
   "execution_count": 3,
   "metadata": {},
   "outputs": [],
   "source": [
    "def copy_files(files, destination):\n",
    "    for f in files:\n",
    "        shutil.copy(os.path.join(full_set_plader, f), os.path.join(destination, f))"
   ]
  },
  {
   "cell_type": "code",
   "execution_count": 4,
   "metadata": {},
   "outputs": [],
   "source": [
    "# Sikre, at destinationsmapperne eksisterer\n",
    "os.makedirs(train_set_plader, exist_ok=True)\n",
    "os.makedirs(test_set_plader, exist_ok=True)\n",
    "\n",
    "# Hent alle filnavne fra data-mappen\n",
    "all_files = [f for f in os.listdir(full_set_plader) if os.path.isfile(os.path.join(full_set_plader, f))]\n",
    "\n",
    "# Bland listen i state 42 og lav et tilfældigt split\n",
    "random.Random(42).shuffle(all_files)\n",
    "split_point = int((1 - test_size) * len(all_files))\n",
    "\n",
    "# Fordel filerne i train og test mapper\n",
    "train_files = all_files[:split_point]\n",
    "test_files = all_files[split_point:]\n",
    "\n",
    "# Kopier filerne\n",
    "copy_files(train_files, train_set_plader)\n",
    "copy_files(test_files, test_set_plader)"
   ]
  },
  {
   "cell_type": "markdown",
   "metadata": {},
   "source": [
    "Laver tile split"
   ]
  },
  {
   "cell_type": "code",
   "execution_count": 5,
   "metadata": {},
   "outputs": [],
   "source": [
    "def get_tiles(image):\n",
    "    # laver en tom liste \n",
    "    tiles = []\n",
    "    # kører et for loop hvor elementer vil blive tilføjet til listen, hvor y repræsenterer en række af billedet\n",
    "    for y in range(5):\n",
    "        tiles.append([])\n",
    "    # kører et nested loop, hvor billedet bliver delt op i en tavel med 25 kvadrater af 100,100 px og tilføjer til listen tiles\n",
    "        for x in range(5):\n",
    "            tiles[-1].append(image[y*100:(y+1)*100, x*100:(x+1)*100])\n",
    "    return tiles"
   ]
  },
  {
   "cell_type": "code",
   "execution_count": 6,
   "metadata": {},
   "outputs": [],
   "source": [
    "def zoom_tile(tile):\n",
    "    height, width = tile.shape[:2]\n",
    "    \n",
    "    # Beregner hvor meget der skal beskæres fra hver side\n",
    "    crop_height = int(height * crop_percentage)\n",
    "    crop_width = int(width * crop_percentage)\n",
    "    \n",
    "    # Opdaterer udsnittets start- og slutpunkter for at fjerne de yderste 5%\n",
    "    cropped_tile = tile[crop_height:height-crop_height, crop_width:width-crop_width]\n",
    "    \n",
    "    return cropped_tile"
   ]
  },
  {
   "cell_type": "code",
   "execution_count": 7,
   "metadata": {},
   "outputs": [],
   "source": [
    "def remove_circle_from_tile(tile):\n",
    "    if tile.shape[2] == 3:\n",
    "        tile = cv.cvtColor(tile, cv.COLOR_BGR2BGRA)\n",
    "    \n",
    "    height, width = tile.shape[:2]\n",
    "    diameter = int(circle_size * min(width, height))\n",
    "    \n",
    "    center = (width // 2, height // 2)\n",
    "    \n",
    "    mask = np.zeros((height, width), dtype=np.uint8)\n",
    "    cv.circle(mask, center, diameter // 2, (255), -1)\n",
    "    \n",
    "    tile[mask == 255, 3] = 0\n",
    "\n",
    "    return tile"
   ]
  },
  {
   "cell_type": "code",
   "execution_count": 8,
   "metadata": {},
   "outputs": [],
   "source": [
    "all_tiles = []\n",
    "\n",
    "for filename in os.listdir(train_set_plader):\n",
    "    image_path = os.path.join(train_set_plader, filename)\n",
    "\n",
    "    if not os.path.isfile(image_path):\n",
    "        print(f\"Image not found: {image_path}\")\n",
    "        continue\n",
    "    \n",
    "    image = cv.imread(image_path)\n",
    "    tiles = get_tiles(image)\n",
    "    \n",
    "    for y, row in enumerate(tiles):\n",
    "        for x, tile in enumerate(row):\n",
    "            tile = zoom_tile(tile)\n",
    "            new_tile = remove_circle_from_tile(tile)\n",
    "            all_tiles.append(new_tile)"
   ]
  },
  {
   "cell_type": "code",
   "execution_count": 9,
   "metadata": {},
   "outputs": [],
   "source": [
    "from skimage.feature import local_binary_pattern\n",
    "import numpy as np\n",
    "\n",
    "# Parametre for LBP\n",
    "P = 8  # Antal cirkulære naboer\n",
    "R = 1  # Radius\n",
    "\n",
    "def calculate_lbp(image):\n",
    "    # Konverter billedet til gråtoner\n",
    "    gray_image = cv.cvtColor(image, cv.COLOR_BGR2GRAY)\n",
    "    \n",
    "    # Anvend LBP\n",
    "    # P er antallet af cirkulære naboer (typisk 8)\n",
    "    # R er radius (typisk 1)\n",
    "    P, R = 8, 1\n",
    "    lbp_image = local_binary_pattern(gray_image, P, R, method=\"uniform\")\n",
    "    \n",
    "    # Beregn et histogram af LBP værdier; +2 fordi vi har P*(P-1) + 3 uniforme mønstre\n",
    "    # 'n_bins' skal være lig antallet af mulige mønstre; for P=8, 256 mulige mønstre\n",
    "    # Normaliser histogrammet for at repræsentere sandsynligheder\n",
    "    (hist, _) = np.histogram(lbp_image.ravel(), bins=np.arange(0, P * (P - 1) + 3), range=(0, P * (P - 1) + 2))\n",
    "    hist = hist.astype(\"float\")\n",
    "    hist /= (hist.sum() + 1e-7)\n",
    "    \n",
    "    return hist\n"
   ]
  },
  {
   "cell_type": "code",
   "execution_count": 10,
   "metadata": {},
   "outputs": [
    {
     "name": "stderr",
     "output_type": "stream",
     "text": [
      "/Library/Frameworks/Python.framework/Versions/3.11/lib/python3.11/site-packages/sklearn/cluster/_kmeans.py:1416: FutureWarning: The default value of `n_init` will change from 10 to 'auto' in 1.4. Set the value of `n_init` explicitly to suppress the warning\n",
      "  super()._check_params_vs_input(X, default_n_init=10)\n"
     ]
    }
   ],
   "source": [
    "tile_data = []\n",
    "for tile in all_tiles:\n",
    "    # HSV\n",
    "    hsv = cv.cvtColor(tile, cv.COLOR_BGR2HSV)\n",
    "    avg_color_per_row_hsv = np.median(hsv, axis=0)\n",
    "    avg_color_hsv = np.median(avg_color_per_row_hsv, axis=0)\n",
    "\n",
    "    lbp_features = calculate_lbp(tile)\n",
    "\n",
    "    \n",
    "    # Samler farveværdierne fra alle tre farverum i én enkelt array\n",
    "    combined_avg_color = np.hstack((avg_color_hsv, lbp_features))\n",
    "    \n",
    "    tile_data.append(combined_avg_color)\n",
    "\n",
    "tile_data = np.array(tile_data) \n",
    "scaler = StandardScaler()\n",
    "tile_data = scaler.fit_transform(tile_data)\n",
    "\n",
    "\n",
    "# Anvend K-means clustering på de fundne farver\n",
    "kmeans = KMeans(n_clusters, random_state=42).fit(tile_data)\n",
    "\n",
    "# Opret mapper til de forskellige clusters, hvis de ikke allerede findes\n",
    "for i in range(n_clusters):\n",
    "    os.makedirs(f'{train_set_tiles}/cluster_{i}', exist_ok=True)\n",
    "\n",
    "# Gem hvert billede i den tilsvarende mappe baseret på dets cluster\n",
    "for idx, tile in enumerate(all_tiles):\n",
    "    cluster_index = kmeans.labels_[idx]\n",
    "    tile_path = f'{train_set_tiles}/cluster_{cluster_index}/{idx}.png'\n",
    "    cv.imwrite(tile_path, tile)"
   ]
  }
 ],
 "metadata": {
  "kernelspec": {
   "display_name": "Python 3",
   "language": "python",
   "name": "python3"
  },
  "language_info": {
   "codemirror_mode": {
    "name": "ipython",
    "version": 3
   },
   "file_extension": ".py",
   "mimetype": "text/x-python",
   "name": "python",
   "nbconvert_exporter": "python",
   "pygments_lexer": "ipython3",
   "version": "3.11.2"
  }
 },
 "nbformat": 4,
 "nbformat_minor": 2
}
